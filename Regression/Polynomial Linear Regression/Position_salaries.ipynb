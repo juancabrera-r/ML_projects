{
 "cells": [
  {
   "cell_type": "markdown",
   "id": "14a6460c-0e48-46ba-9405-17f568d1c633",
   "metadata": {},
   "source": [
    "# Libreria"
   ]
  },
  {
   "cell_type": "code",
   "execution_count": 2,
   "id": "89147f34-c660-4750-89c5-5fb2e3b6fb1d",
   "metadata": {},
   "outputs": [],
   "source": [
    "import numpy as np\n",
    "import pandas as pd\n",
    "import matplotlib.pyplot as plt\n",
    "\n",
    "from sklearn.model_selection import train_test_split\n",
    "from sklearn.compose import ColumnTransformer\n",
    "from sklearn.preprocessing import OneHotEncoder\n",
    "from sklearn.linear_model import LinearRegression\n",
    "\n",
    "random_state = 49"
   ]
  },
  {
   "cell_type": "markdown",
   "id": "0055da55-be46-4cb2-b301-e4cac5f3ec95",
   "metadata": {},
   "source": [
    "# Datasets"
   ]
  },
  {
   "cell_type": "code",
   "execution_count": 12,
   "id": "0656e059-95fe-48bc-8606-bf59aa952f60",
   "metadata": {},
   "outputs": [
    {
     "name": "stdout",
     "output_type": "stream",
     "text": [
      "Dataframe:\n",
      "            Position  Level  Salary\n",
      "0   Business Analyst      1   45000\n",
      "1  Junior Consultant      2   50000\n",
      "2  Senior Consultant      3   60000\n",
      "3            Manager      4   80000\n",
      "4    Country Manager      5  110000\n",
      "\n",
      "5 primero valores de X:\n",
      "[[1]\n",
      " [2]\n",
      " [3]\n",
      " [4]\n",
      " [5]]\n",
      "\n",
      "5 primero valores de y:\n",
      "[ 45000  50000  60000  80000 110000]\n"
     ]
    }
   ],
   "source": [
    "#Carga los datos y muestras las 10 primeras filas\n",
    "datas = pd.read_csv(\"Position_Salaries.csv\")\n",
    "\n",
    "X = datas.iloc[:, 1:-1].values\n",
    "y = datas.iloc[:, -1].values\n",
    "\n",
    "print(\"Dataframe:\")\n",
    "print(datas.head(), end=2*'\\n')\n",
    "print(\"5 primero valores de X:\")\n",
    "print(X[:5, :], end=2*'\\n')\n",
    "print(\"5 primero valores de y:\")\n",
    "print(y[:5])"
   ]
  },
  {
   "cell_type": "markdown",
   "id": "92e376ef-b164-41eb-b265-800181b15307",
   "metadata": {},
   "source": [
    "## Training Linea"
   ]
  },
  {
   "cell_type": "code",
   "execution_count": null,
   "id": "9af2a35c-c0f0-490d-9232-f4ce686ebfa1",
   "metadata": {},
   "outputs": [],
   "source": []
  }
 ],
 "metadata": {
  "kernelspec": {
   "display_name": "Python 3 (ipykernel)",
   "language": "python",
   "name": "python3"
  },
  "language_info": {
   "codemirror_mode": {
    "name": "ipython",
    "version": 3
   },
   "file_extension": ".py",
   "mimetype": "text/x-python",
   "name": "python",
   "nbconvert_exporter": "python",
   "pygments_lexer": "ipython3",
   "version": "3.9.7"
  }
 },
 "nbformat": 4,
 "nbformat_minor": 5
}
