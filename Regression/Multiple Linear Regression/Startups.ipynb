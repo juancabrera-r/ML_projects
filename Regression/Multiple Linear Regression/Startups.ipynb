{
 "cells": [
  {
   "cell_type": "markdown",
   "id": "08b995bc-b824-41d8-bdfd-dea4601537ef",
   "metadata": {},
   "source": [
    "# Libreria"
   ]
  },
  {
   "cell_type": "code",
   "execution_count": 1,
   "id": "5b526260-cd2e-49ef-9bef-ebf1ed9f6ee1",
   "metadata": {},
   "outputs": [],
   "source": [
    "import numpy as np\n",
    "import pandas as pd\n",
    "import matplotlib.pyplot as plt\n",
    "\n",
    "from sklearn.model_selection import train_test_split\n",
    "from sklearn.compose import ColumnTransformer\n",
    "from sklearn.preprocessing import OneHotEncoder\n",
    "from sklearn.linear_model import LinearRegression\n",
    "\n",
    "random_state = 49"
   ]
  },
  {
   "cell_type": "markdown",
   "id": "8b2d8f22-f10d-4143-8b70-f3cebc578511",
   "metadata": {},
   "source": [
    "# Datasets"
   ]
  },
  {
   "cell_type": "code",
   "execution_count": 2,
   "id": "0c805fc7-5c23-4b3a-85c0-a6eb3138f2e2",
   "metadata": {},
   "outputs": [
    {
     "name": "stdout",
     "output_type": "stream",
     "text": [
      "Dataframe:\n",
      "   R&D Spend  Administration  Marketing Spend       State     Profit\n",
      "0  165349.20       136897.80        471784.10    New York  192261.83\n",
      "1  162597.70       151377.59        443898.53  California  191792.06\n",
      "2  153441.51       101145.55        407934.54     Florida  191050.39\n",
      "3  144372.41       118671.85        383199.62    New York  182901.99\n",
      "4  142107.34        91391.77        366168.42     Florida  166187.94\n",
      "\n",
      "5 primero valores de X:\n",
      "[[165349.2 136897.8 471784.1 'New York']\n",
      " [162597.7 151377.59 443898.53 'California']\n",
      " [153441.51 101145.55 407934.54 'Florida']\n",
      " [144372.41 118671.85 383199.62 'New York']\n",
      " [142107.34 91391.77 366168.42 'Florida']]\n",
      "\n",
      "5 primero valores de y:\n",
      "[192261.83 191792.06 191050.39 182901.99 166187.94]\n"
     ]
    }
   ],
   "source": [
    "#Carga los datos y muestras las 10 primeras filas\n",
    "datas = pd.read_csv(\"50_Startups.csv\")\n",
    "\n",
    "X = datas.iloc[:, :-1].values\n",
    "y = datas.iloc[:, -1].values\n",
    "\n",
    "print(\"Dataframe:\")\n",
    "print(datas.head(), end=2*'\\n')\n",
    "print(\"5 primero valores de X:\")\n",
    "print(X[:5, :], end=2*'\\n')\n",
    "print(\"5 primero valores de y:\")\n",
    "print(y[:5])"
   ]
  },
  {
   "cell_type": "markdown",
   "id": "cbfe0be0-5f67-4a56-9df0-008e99c4c06b",
   "metadata": {},
   "source": [
    "R&D Spend, Administration, Marketing Spend y State -> son variables independientes\n",
    "Profit son variables dependientes\n",
    "State es una variable categórica, habrá que tenerlo en cuenta.\n",
    "Además faltan algunos datos, por lo que habrá que tenerlo en cuenta."
   ]
  },
  {
   "cell_type": "code",
   "execution_count": 3,
   "id": "0859c8a6-b1a1-4768-b237-0fe668ce9a34",
   "metadata": {},
   "outputs": [],
   "source": [
    "## Encoding the State variable\n",
    "transf = [('encoder', OneHotEncoder(), [3])]\n",
    "ct = ColumnTransformer(transformers=transf, remainder='passthrough')\n",
    "X = ct.fit_transform(X)"
   ]
  },
  {
   "cell_type": "markdown",
   "id": "94953a6c-4145-4ecb-a3ec-53474e42adf8",
   "metadata": {},
   "source": [
    "# Split dataset"
   ]
  },
  {
   "cell_type": "code",
   "execution_count": 4,
   "id": "5e4b76a3-af42-4f3a-82f0-d2901140baa9",
   "metadata": {},
   "outputs": [
    {
     "name": "stdout",
     "output_type": "stream",
     "text": [
      "Dimensión de X_train:\n",
      "(40, 6)\n",
      "Dimensión de X_test:\n",
      "(10, 6)\n",
      "Dimensión de y_train:\n",
      "(40,)\n",
      "Dimensión de y_test:\n",
      "(10,)\n"
     ]
    }
   ],
   "source": [
    "#Se divide el dataset en datos de entrenamiento y test\n",
    "X_train, X_test, y_train, y_test = train_test_split(X, y, test_size=0.2, random_state=random_state)\n",
    "\n",
    "print(\"Dimensión de X_train:\")\n",
    "print(X_train.shape)\n",
    "print(\"Dimensión de X_test:\")\n",
    "print(X_test.shape)\n",
    "print(\"Dimensión de y_train:\")\n",
    "print(y_train.shape)\n",
    "print(\"Dimensión de y_test:\")\n",
    "print(y_test.shape)"
   ]
  },
  {
   "cell_type": "markdown",
   "id": "ed708783-d173-48ed-b504-0cd05c42479d",
   "metadata": {},
   "source": [
    "# Entrenamiento del modelo"
   ]
  },
  {
   "cell_type": "code",
   "execution_count": 5,
   "id": "cc19f30e-82b8-4f8f-93b9-08da945dc3cb",
   "metadata": {},
   "outputs": [],
   "source": [
    "model = LinearRegression().fit(X_train, y_train)"
   ]
  },
  {
   "cell_type": "markdown",
   "id": "396a5fd8-d08c-45f5-9767-8cccc50dcd22",
   "metadata": {},
   "source": [
    "# Predicciones"
   ]
  },
  {
   "cell_type": "code",
   "execution_count": 6,
   "id": "af89817b-a130-40f1-8de7-31cd049074ff",
   "metadata": {},
   "outputs": [],
   "source": [
    "y_pred = model.predict(X_test)\n",
    "np.set_printoptions(precision=2)"
   ]
  },
  {
   "cell_type": "code",
   "execution_count": 7,
   "id": "85a499d7-1053-4767-adfc-86230a4b8da0",
   "metadata": {},
   "outputs": [
    {
     "name": "stdout",
     "output_type": "stream",
     "text": [
      "[[101644.61 107404.34]\n",
      " [ 99418.22  97483.56]\n",
      " [ 81896.34  81005.76]\n",
      " [116162.83 126992.93]\n",
      " [151662.3  132602.65]\n",
      " [115787.69 118474.03]\n",
      " [ 45620.    42559.73]\n",
      " [132138.67 125370.37]\n",
      " [194553.65 192261.83]\n",
      " [116169.55 105008.31]]\n"
     ]
    }
   ],
   "source": [
    "#Reshape lo usamos para representar los datos de forma vertical en vez de horizontal.\n",
    "print(np.concatenate((y_pred.reshape(len(y_pred),1), y_test.reshape(len(y_test), 1)), axis=1))"
   ]
  },
  {
   "cell_type": "markdown",
   "id": "a920aa5c-0c4e-4484-8b52-1c8b413beb66",
   "metadata": {},
   "source": [
    "## Making a single prediction (for example the profit of a startup with R&D Spend = 160000, Administration Spend = 130000, Marketing Spend = 300000 and State = 'California')"
   ]
  },
  {
   "cell_type": "code",
   "execution_count": 8,
   "id": "8b0608af-0c0e-45ba-9dcf-ec38cfc74e92",
   "metadata": {},
   "outputs": [
    {
     "name": "stdout",
     "output_type": "stream",
     "text": [
      "[183040.14]\n"
     ]
    }
   ],
   "source": [
    "print(model.predict([[1, 0, 0, 160000, 130000, 300000]]))"
   ]
  },
  {
   "cell_type": "markdown",
   "id": "3c778394-4bfc-45d9-9e80-b76ec1776c8e",
   "metadata": {},
   "source": [
    "## Getting the final linear regression equation with the values of the coefficients"
   ]
  },
  {
   "cell_type": "code",
   "execution_count": 9,
   "id": "c3a6f147-044d-4142-8888-402cb0f7b178",
   "metadata": {},
   "outputs": [
    {
     "name": "stdout",
     "output_type": "stream",
     "text": [
      "[-1.42e+03  7.17e+02  6.98e+02  8.03e-01 -1.95e-03  2.98e-02]\n",
      "47300.11651571962\n"
     ]
    }
   ],
   "source": [
    "print(model.coef_)\n",
    "print(model.intercept_)"
   ]
  },
  {
   "cell_type": "code",
   "execution_count": null,
   "id": "3e37a68c-a7c6-4714-8ae4-a8fd534be061",
   "metadata": {},
   "outputs": [],
   "source": []
  }
 ],
 "metadata": {
  "kernelspec": {
   "display_name": "Python 3 (ipykernel)",
   "language": "python",
   "name": "python3"
  },
  "language_info": {
   "codemirror_mode": {
    "name": "ipython",
    "version": 3
   },
   "file_extension": ".py",
   "mimetype": "text/x-python",
   "name": "python",
   "nbconvert_exporter": "python",
   "pygments_lexer": "ipython3",
   "version": "3.9.7"
  }
 },
 "nbformat": 4,
 "nbformat_minor": 5
}
